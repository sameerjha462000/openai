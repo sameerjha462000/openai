{
 "cells": [
  {
   "cell_type": "code",
   "execution_count": 1,
   "id": "37fc8be8",
   "metadata": {},
   "outputs": [],
   "source": [
    "import openai"
   ]
  },
  {
   "cell_type": "code",
   "execution_count": 2,
   "id": "607b1047",
   "metadata": {},
   "outputs": [],
   "source": [
    "import os"
   ]
  },
  {
   "cell_type": "code",
   "execution_count": 4,
   "id": "61e2ef7c",
   "metadata": {},
   "outputs": [],
   "source": [
    "openai.api_key = os.environ['OPENAI_API_KEY'] "
   ]
  },
  {
   "cell_type": "code",
   "execution_count": 5,
   "id": "9a0864c4",
   "metadata": {},
   "outputs": [],
   "source": [
    "def parity_generator(nums : list[int]) -> list[str]:\n",
    "    return ['odd' if num % 2 == 1 else 0 for num in nums]"
   ]
  },
  {
   "cell_type": "code",
   "execution_count": 6,
   "id": "9306e001",
   "metadata": {},
   "outputs": [],
   "source": [
    "func = '''def parity_generator(nums : list[int]) -> list[str]:\n",
    "    return ['odd' if num % 2 == 1 else 0 for num in nums]'''"
   ]
  },
  {
   "cell_type": "code",
   "execution_count": 7,
   "id": "fd88394e",
   "metadata": {},
   "outputs": [],
   "source": [
    "messages = [\n",
    "    {'role':'system', 'content':'You are a python code explainer'},\n",
    "    {'role':'user', 'content':f'Explain the following python code : {func}'}\n",
    "]"
   ]
  },
  {
   "cell_type": "code",
   "execution_count": 8,
   "id": "9842e3ec",
   "metadata": {},
   "outputs": [
    {
     "name": "stdout",
     "output_type": "stream",
     "text": [
      "This Python code defines a function called `parity_generator` that takes in a list of integers called `nums`. The function's purpose is to determine the parity of each number in the list (`odd` or `even`) and generate a new list of strings accordingly.\n",
      "\n",
      "The function uses a list comprehension to iterate through each number (`num`) in the input list. For each `num`, it checks if it is odd by using the modulus operator (`%`) to see if the remainder of dividing `num` by 2 is equal to 1. If the condition `num % 2 == 1` is `True`, meaning the number is odd, it adds the string `'odd'` to the new list. Otherwise, if the condition is `False`, indicating that the number is even, it adds the integer `0` to the new list.\n",
      "\n",
      "Finally, the function returns the newly generated list of strings or integers, depending on the parity of each input number. The return annotation `-> list[str]` indicates that the function returns a list of strings.\n"
     ]
    }
   ],
   "source": [
    "response = openai.ChatCompletion.create(\n",
    "    model = 'gpt-3.5-turbo',\n",
    "    messages = messages\n",
    ")\n",
    "\n",
    "print(response.choices[0].message.content)"
   ]
  },
  {
   "cell_type": "code",
   "execution_count": null,
   "id": "f7d7f18e",
   "metadata": {},
   "outputs": [],
   "source": []
  }
 ],
 "metadata": {
  "kernelspec": {
   "display_name": "Python 3 (ipykernel)",
   "language": "python",
   "name": "python3"
  },
  "language_info": {
   "codemirror_mode": {
    "name": "ipython",
    "version": 3
   },
   "file_extension": ".py",
   "mimetype": "text/x-python",
   "name": "python",
   "nbconvert_exporter": "python",
   "pygments_lexer": "ipython3",
   "version": "3.11.5"
  }
 },
 "nbformat": 4,
 "nbformat_minor": 5
}
