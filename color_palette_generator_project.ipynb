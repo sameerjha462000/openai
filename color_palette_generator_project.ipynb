{
 "cells": [
  {
   "cell_type": "markdown",
   "id": "344ff901",
   "metadata": {},
   "source": [
    "# color palette generator"
   ]
  },
  {
   "cell_type": "code",
   "execution_count": 5,
   "id": "0c8dada7",
   "metadata": {},
   "outputs": [],
   "source": [
    "import openai"
   ]
  },
  {
   "cell_type": "code",
   "execution_count": 6,
   "id": "d888ce78",
   "metadata": {},
   "outputs": [],
   "source": [
    "import os"
   ]
  },
  {
   "cell_type": "code",
   "execution_count": 7,
   "id": "0c291bf9",
   "metadata": {},
   "outputs": [
    {
     "data": {
      "text/plain": [
       "environ{'ALLUSERSPROFILE': 'C:\\\\ProgramData',\n",
       "        'APPDATA': 'C:\\\\Users\\\\HU496FA\\\\AppData\\\\Roaming',\n",
       "        'COMMONPROGRAMFILES': 'C:\\\\Program Files\\\\Common Files',\n",
       "        'COMMONPROGRAMFILES(X86)': 'C:\\\\Program Files (x86)\\\\Common Files',\n",
       "        'COMMONPROGRAMW6432': 'C:\\\\Program Files\\\\Common Files',\n",
       "        'COMPUTERNAME': 'IN3303983W1',\n",
       "        'COMSPEC': 'C:\\\\Windows\\\\system32\\\\cmd.exe',\n",
       "        'DRIVERDATA': 'C:\\\\Windows\\\\System32\\\\Drivers\\\\DriverData',\n",
       "        'FPS_BROWSER_APP_PROFILE_STRING': 'Internet Explorer',\n",
       "        'FPS_BROWSER_USER_PROFILE_STRING': 'Default',\n",
       "        'HOMEDRIVE': 'C:',\n",
       "        'HOMEPATH': '\\\\Users\\\\HU496FA',\n",
       "        'JAVA_HOME': 'C:\\\\Program Files\\\\Amazon Corretto\\\\jdk17.0.7_7',\n",
       "        'LOCALAPPDATA': 'C:\\\\Users\\\\HU496FA\\\\AppData\\\\Local',\n",
       "        'LOGONSERVER': '\\\\\\\\DERUSBMPAD91',\n",
       "        'NEXTHINK': 'C:\\\\Program Files\\\\Nexthink\\\\Collector',\n",
       "        'NUMBER_OF_PROCESSORS': '8',\n",
       "        'ONEDRIVE': 'C:\\\\Users\\\\HU496FA\\\\OneDrive - EY',\n",
       "        'ONEDRIVECOMMERCIAL': 'C:\\\\Users\\\\HU496FA\\\\OneDrive - EY',\n",
       "        'OS': 'Windows_NT',\n",
       "        'PATH': 'C:\\\\Users\\\\HU496FA\\\\AppData\\\\Local\\\\anaconda3;C:\\\\Users\\\\HU496FA\\\\AppData\\\\Local\\\\anaconda3\\\\Library\\\\mingw-w64\\\\bin;C:\\\\Users\\\\HU496FA\\\\AppData\\\\Local\\\\anaconda3\\\\Library\\\\usr\\\\bin;C:\\\\Users\\\\HU496FA\\\\AppData\\\\Local\\\\anaconda3\\\\Library\\\\bin;C:\\\\Users\\\\HU496FA\\\\AppData\\\\Local\\\\anaconda3\\\\Scripts;C:\\\\Program Files\\\\Amazon Corretto\\\\jdk17.0.7_7\\\\bin;C:\\\\Windows\\\\system32;C:\\\\Windows;C:\\\\Windows\\\\System32\\\\Wbem;C:\\\\Windows\\\\System32\\\\WindowsPowerShell\\\\v1.0\\\\;C:\\\\Windows\\\\System32\\\\OpenSSH\\\\;C:\\\\Program Files (x86)\\\\Riverbed\\\\Steelhead Mobile\\\\;C:\\\\Program Files\\\\1E\\\\Client\\\\Extensibility\\\\NomadBranch;C:\\\\MinGW\\\\bin;C:\\\\Program Files\\\\nodejs\\\\;C:\\\\Program Files\\\\MongoDB\\\\Server\\\\6.0\\\\bin;C:\\\\Program Files (x86)\\\\Common Files\\\\Hitachi ID\\\\;C:\\\\Program Files\\\\Common Files\\\\Hitachi ID\\\\;C:\\\\Program Files\\\\Microsoft SQL Server\\\\150\\\\Tools\\\\Binn\\\\;C:\\\\Program Files\\\\Microsoft SQL Server\\\\Client SDK\\\\ODBC\\\\170\\\\Tools\\\\Binn\\\\;C:\\\\Program Files\\\\dotnet\\\\;C:\\\\Program Files (x86)\\\\Microsoft SQL Server\\\\150\\\\Tools\\\\Binn\\\\;C:\\\\Program Files\\\\Microsoft SQL Server\\\\150\\\\DTS\\\\Binn\\\\;C:\\\\Program Files (x86)\\\\Microsoft SQL Server\\\\160\\\\DTS\\\\Binn\\\\;C:\\\\Program Files\\\\Azure Data Studio\\\\bin;C:\\\\Users\\\\HU496FA\\\\AppData\\\\Roaming\\\\npm;C:\\\\Program Files\\\\MySQL\\\\MySQL Shell 8.0\\\\bin\\\\;C:\\\\Users\\\\HU496FA\\\\AppData\\\\Local\\\\Programs\\\\Python\\\\Python311;C:\\\\Users\\\\HU496FA\\\\AppData\\\\Local\\\\Programs\\\\Python\\\\Python311\\\\Scripts;C:\\\\Users\\\\HU496FA\\\\AppData\\\\Local\\\\Programs\\\\Microsoft VS Code\\\\bin;C:\\\\Users\\\\HU496FA\\\\AppData\\\\Roaming\\\\npm;C:\\\\Users\\\\HU496FA\\\\AppData\\\\Local\\\\GitHubDesktop\\\\bin',\n",
       "        'PATHEXT': '.COM;.EXE;.BAT;.CMD;.VBS;.VBE;.JS;.JSE;.WSF;.WSH;.MSC',\n",
       "        'PROCESSOR_ARCHITECTURE': 'AMD64',\n",
       "        'PROCESSOR_IDENTIFIER': 'Intel64 Family 6 Model 140 Stepping 1, GenuineIntel',\n",
       "        'PROCESSOR_LEVEL': '6',\n",
       "        'PROCESSOR_REVISION': '8c01',\n",
       "        'PROGRAMDATA': 'C:\\\\ProgramData',\n",
       "        'PROGRAMFILES': 'C:\\\\Program Files',\n",
       "        'PROGRAMFILES(X86)': 'C:\\\\Program Files (x86)',\n",
       "        'PROGRAMW6432': 'C:\\\\Program Files',\n",
       "        'PSMODULEPATH': 'C:\\\\Program Files\\\\WindowsPowerShell\\\\Modules;C:\\\\Windows\\\\system32\\\\WindowsPowerShell\\\\v1.0\\\\Modules;C:\\\\Program Files (x86)\\\\Microsoft SQL Server\\\\150\\\\Tools\\\\PowerShell\\\\Modules\\\\',\n",
       "        'PUBLIC': 'C:\\\\Users\\\\Public',\n",
       "        'SESSIONNAME': 'Console',\n",
       "        'SYSTEMDRIVE': 'C:',\n",
       "        'SYSTEMROOT': 'C:\\\\Windows',\n",
       "        'TEMP': 'C:\\\\Users\\\\HU496FA\\\\AppData\\\\Local\\\\Temp',\n",
       "        'TMP': 'C:\\\\Users\\\\HU496FA\\\\AppData\\\\Local\\\\Temp',\n",
       "        'UATDATA': 'C:\\\\Windows\\\\CCM\\\\UATData\\\\D9F8C395-CAB8-491d-B8AC-179A1FE1BE77',\n",
       "        'UIPATH_DISABLE_MARKETPLACE_WIDGET': 'True',\n",
       "        'UIPATH_LANGUAGE': 'en',\n",
       "        'UIPATH_SESSION_TIMEOUT': '180',\n",
       "        'UIPATH_USER_SERVICE_PATH': 'C:\\\\Program Files\\\\UiPath\\\\Studio\\\\UiPath.Service.UserHost.exe',\n",
       "        'USERDNSDOMAIN': 'MEA.EY.NET',\n",
       "        'USERDOMAIN': 'MEA',\n",
       "        'USERDOMAIN_ROAMINGPROFILE': 'MEA',\n",
       "        'USERNAME': 'HU496FA',\n",
       "        'USERPROFILE': 'C:\\\\Users\\\\HU496FA',\n",
       "        'WINDIR': 'C:\\\\Windows',\n",
       "        'ZES_ENABLE_SYSMAN': '1',\n",
       "        'CONDA_PREFIX': 'C:\\\\Users\\\\HU496FA\\\\AppData\\\\Local\\\\anaconda3',\n",
       "        'PYDEVD_USE_FRAME_EVAL': 'NO',\n",
       "        'JPY_INTERRUPT_EVENT': '3944',\n",
       "        'IPY_INTERRUPT_EVENT': '3944',\n",
       "        'JPY_PARENT_PID': '3868',\n",
       "        'TERM': 'xterm-color',\n",
       "        'CLICOLOR': '1',\n",
       "        'FORCE_COLOR': '1',\n",
       "        'CLICOLOR_FORCE': '1',\n",
       "        'PAGER': 'cat',\n",
       "        'GIT_PAGER': 'cat',\n",
       "        'MPLBACKEND': 'module://matplotlib_inline.backend_inline'}"
      ]
     },
     "execution_count": 7,
     "metadata": {},
     "output_type": "execute_result"
    }
   ],
   "source": [
    "os.environ # This is a dictionary which stores all the environment variables in your computer"
   ]
  },
  {
   "cell_type": "code",
   "execution_count": 10,
   "id": "13d01436",
   "metadata": {},
   "outputs": [],
   "source": [
    "openai.api_key = os.environ['OPENAI_API_KEY']"
   ]
  },
  {
   "cell_type": "code",
   "execution_count": 26,
   "id": "efd5300c",
   "metadata": {},
   "outputs": [],
   "source": [
    "def get_prompt(msg):\n",
    "    return f\"\"\"\n",
    "        You are a color palette generating assistant that responds to text prompts for color palettes\n",
    "        Your should generate color palettes that fit the theme, mood, or instructions in the prompt.\n",
    "        The palettes should be between 2 and 8 colors.\n",
    "\n",
    "        Q: Convert the following verbal description of a color palette into a list of colors: The Mediterranean Sea\n",
    "        A: [\"#006699\", \"#66CCCC\", \"#F0E68C\", \"#008000\", \"#F08080\"]\n",
    "\n",
    "        Q: Convert the following verbal description of a color palette into a list of colors: sage, nature, earth\n",
    "        A: [\"#EDF1D6\", \"#9DC08B\", \"#609966\", \"#40513B\"]\n",
    "\n",
    "\n",
    "        Desired Format: a JSON array of hexadecimal color codes\n",
    "\n",
    "        Q: Convert the following verbal description of a color palette into a list of colors: {msg} \n",
    "        A: \"\"\""
   ]
  },
  {
   "cell_type": "code",
   "execution_count": 27,
   "id": "7bc9c557",
   "metadata": {},
   "outputs": [
    {
     "data": {
      "text/plain": [
       "'\\n        You are a color palette generating assistant that responds to text prompts for color palettes\\n        Your should generate color palettes that fit the theme, mood, or instructions in the prompt.\\n        The palettes should be between 2 and 8 colors.\\n\\n        Q: Convert the following verbal description of a color palette into a list of colors: The Mediterranean Sea\\n        A: [\"#006699\", \"#66CCCC\", \"#F0E68C\", \"#008000\", \"#F08080\"]\\n\\n        Q: Convert the following verbal description of a color palette into a list of colors: sage, nature, earth\\n        A: [\"#EDF1D6\", \"#9DC08B\", \"#609966\", \"#40513B\"]\\n\\n\\n        Desired Format: a JSON array of hexadecimal color codes\\n\\n        Q: Convert the following verbal description of a color palette into a list of colors: The love story \\n        A: '"
      ]
     },
     "execution_count": 27,
     "metadata": {},
     "output_type": "execute_result"
    }
   ],
   "source": [
    "get_prompt('The love story')"
   ]
  },
  {
   "cell_type": "code",
   "execution_count": 30,
   "id": "5ff0fd1c",
   "metadata": {},
   "outputs": [],
   "source": [
    "def get_colors_json(msg):\n",
    "    return openai.Completion.create(\n",
    "        model = 'text-davinci-003',\n",
    "        prompt = get_prompt(msg),\n",
    "        max_tokens = 100\n",
    "    )['choices'][0]['text'][1:]"
   ]
  },
  {
   "cell_type": "code",
   "execution_count": 32,
   "id": "6b38ba94",
   "metadata": {},
   "outputs": [
    {
     "data": {
      "text/plain": [
       "'[\"#FF6961\", \"#F8E8A0\", \"#E87E04\", \"#9C9C9C\"]'"
      ]
     },
     "execution_count": 32,
     "metadata": {},
     "output_type": "execute_result"
    }
   ],
   "source": [
    "colors = get_colors_json('A love story which never started')\n",
    "colors"
   ]
  },
  {
   "cell_type": "code",
   "execution_count": 34,
   "id": "4a81d5d6",
   "metadata": {},
   "outputs": [],
   "source": [
    "from IPython.display import display, Markdown"
   ]
  },
  {
   "cell_type": "code",
   "execution_count": 35,
   "id": "5617c421",
   "metadata": {},
   "outputs": [
    {
     "data": {
      "text/markdown": [
       "<h1>My name is Abhishek Jha</h1>"
      ],
      "text/plain": [
       "<IPython.core.display.Markdown object>"
      ]
     },
     "execution_count": 35,
     "metadata": {},
     "output_type": "execute_result"
    }
   ],
   "source": [
    "Markdown('<h1>My name is Abhishek Jha</h1>')"
   ]
  },
  {
   "cell_type": "code",
   "execution_count": 36,
   "id": "ec166dd4",
   "metadata": {},
   "outputs": [
    {
     "data": {
      "text/markdown": [
       "<h1>My name is Abhishek Jha</h1>"
      ],
      "text/plain": [
       "<IPython.core.display.Markdown object>"
      ]
     },
     "metadata": {},
     "output_type": "display_data"
    }
   ],
   "source": [
    "display(Markdown(\"<h1>My name is Abhishek Jha</h1>\"))"
   ]
  },
  {
   "cell_type": "code",
   "execution_count": 43,
   "id": "69e7c687",
   "metadata": {},
   "outputs": [
    {
     "data": {
      "text/markdown": [
       "<span style=\"color:red\">█</span>"
      ],
      "text/plain": [
       "<IPython.core.display.Markdown object>"
      ]
     },
     "metadata": {},
     "output_type": "display_data"
    }
   ],
   "source": [
    "display(Markdown(f'<span style=\"color:red\">{chr(9608)}</span>'))"
   ]
  },
  {
   "cell_type": "code",
   "execution_count": 64,
   "id": "08d71cfd",
   "metadata": {},
   "outputs": [],
   "source": [
    "import json\n",
    "def color_palette_generator(theme):\n",
    "    colors = json.loads(get_colors_json(theme))\n",
    "#     for color in colors:\n",
    "#         print(f\"<span style = 'color:{color}'>{chr(9608)}</span>\")\n",
    "    return display(Markdown(\" \".join(f\"<span style = 'color:{color}'>{chr(9608)*4}</span>\" for color in colors)))"
   ]
  },
  {
   "cell_type": "code",
   "execution_count": 67,
   "id": "974eed22",
   "metadata": {},
   "outputs": [
    {
     "data": {
      "text/markdown": [
       "<span style = 'color:#FAD2D7'>████</span> <span style = 'color:#D0689A'>████</span> <span style = 'color:#A61C64'>████</span> <span style = 'color:#4D1F4B'>████</span>"
      ],
      "text/plain": [
       "<IPython.core.display.Markdown object>"
      ]
     },
     "metadata": {},
     "output_type": "display_data"
    }
   ],
   "source": [
    "color_palette_generator('An incomplete love story')"
   ]
  },
  {
   "cell_type": "code",
   "execution_count": null,
   "id": "7758b85f",
   "metadata": {},
   "outputs": [],
   "source": []
  },
  {
   "cell_type": "code",
   "execution_count": null,
   "id": "094659df",
   "metadata": {},
   "outputs": [],
   "source": []
  },
  {
   "cell_type": "code",
   "execution_count": null,
   "id": "d45a3664",
   "metadata": {},
   "outputs": [],
   "source": []
  }
 ],
 "metadata": {
  "kernelspec": {
   "display_name": "Python 3 (ipykernel)",
   "language": "python",
   "name": "python3"
  },
  "language_info": {
   "codemirror_mode": {
    "name": "ipython",
    "version": 3
   },
   "file_extension": ".py",
   "mimetype": "text/x-python",
   "name": "python",
   "nbconvert_exporter": "python",
   "pygments_lexer": "ipython3",
   "version": "3.11.5"
  }
 },
 "nbformat": 4,
 "nbformat_minor": 5
}
