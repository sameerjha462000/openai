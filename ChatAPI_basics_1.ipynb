{
 "cells": [
  {
   "cell_type": "code",
   "execution_count": 1,
   "id": "967f25f1",
   "metadata": {},
   "outputs": [],
   "source": [
    "import openai"
   ]
  },
  {
   "cell_type": "code",
   "execution_count": 2,
   "id": "552ae0b5",
   "metadata": {},
   "outputs": [],
   "source": [
    "import os"
   ]
  },
  {
   "cell_type": "code",
   "execution_count": 4,
   "id": "1462c76c",
   "metadata": {},
   "outputs": [],
   "source": [
    "openai.api_key = os.environ['OPENAI_API_KEY']\n",
    "def read_response(response):\n",
    "    return response.choices[0].message.content"
   ]
  },
  {
   "cell_type": "code",
   "execution_count": 5,
   "id": "1ecc2ebc",
   "metadata": {},
   "outputs": [
    {
     "name": "stdout",
     "output_type": "stream",
     "text": [
      "It's difficult to determine the top 10 cities of the world as it can vary based on different criteria and personal preferences. However, based on factors like population, economic power, cultural significance, and tourism, here are ten influential cities:\n",
      "\n",
      "1. Tokyo, Japan\n",
      "2. New York City, United States\n",
      "3. London, United Kingdom\n",
      "4. Paris, France\n",
      "5. Beijing, China\n",
      "6. Los Angeles, United States\n",
      "7. Dubai, United Arab Emirates\n",
      "8. Singapore, Singapore\n",
      "9. Istanbul, Turkey\n",
      "10. Sydney, Australia\n",
      "\n",
      "Please note that this list is subjective and can vary depending on the source and specific criteria used for evaluation. There are many incredible cities around the world that could be included in this list as well.\n"
     ]
    }
   ],
   "source": [
    "response = openai.ChatCompletion.create(\n",
    "    model = 'gpt-3.5-turbo',\n",
    "    messages = [{\n",
    "        'role':'user',\n",
    "        'content':'Tell me the top 10 cities of the world.'\n",
    "    }]\n",
    ")\n",
    "\n",
    "print(read_response(response))"
   ]
  },
  {
   "cell_type": "markdown",
   "id": "17cd80e1",
   "metadata": {},
   "source": [
    "# system role"
   ]
  },
  {
   "cell_type": "code",
   "execution_count": 15,
   "id": "d9b01a8f",
   "metadata": {},
   "outputs": [
    {
     "name": "stdout",
     "output_type": "stream",
     "text": [
      "Salut, Je m'appelle Abhishek et j'adore les mathématiques. Bien que j'ai aussi aimé quelqu'un mais elle a profité de ma naïveté.\n"
     ]
    }
   ],
   "source": [
    "response = openai.ChatCompletion.create(\n",
    "    model = 'gpt-3.5-turbo',\n",
    "    messages = [\n",
    "        {\n",
    "            'role':\"system\",\n",
    "            'content':'You are a language translator that converts a text given in English to French.'\n",
    "        },\n",
    "        {\n",
    "            'role':'user',\n",
    "            'content':'Hi, My name is Abhishek and I love Mathematics. Though I also loved someone but she took advantage of my naiveness.'\n",
    "        }\n",
    "    ]\n",
    ")\n",
    "\n",
    "print(read_response(response))"
   ]
  },
  {
   "cell_type": "code",
   "execution_count": 19,
   "id": "8d90356f",
   "metadata": {},
   "outputs": [
    {
     "name": "stdout",
     "output_type": "stream",
     "text": [
      "mixed (positive and negative)\n"
     ]
    }
   ],
   "source": [
    "response = openai.ChatCompletion.create(\n",
    "    model = 'gpt-3.5-turbo',\n",
    "    messages = [\n",
    "        {\n",
    "            'role':'system',\n",
    "            'content':'You are a helpful assistant that classifies the sentiment in the text as positive, negative or neutral.'\n",
    "        },\n",
    "        {\n",
    "            'role':'user',\n",
    "            'content':'Classify the sentiment in the following text: \"I really hate the way she treated me.\"'\n",
    "        },\n",
    "        {\n",
    "            'role':'assistant',\n",
    "            'content':'negative'\n",
    "        },\n",
    "        {\n",
    "            'role':'user',\n",
    "            'content':'Classify the sentiment in the following text: \"I really loved her and scoled her but she never came back to me.\"'\n",
    "        }\n",
    "    ]\n",
    ")\n",
    "\n",
    "\n",
    "print(read_response(response))"
   ]
  },
  {
   "cell_type": "code",
   "execution_count": null,
   "id": "f329257c",
   "metadata": {},
   "outputs": [],
   "source": []
  }
 ],
 "metadata": {
  "kernelspec": {
   "display_name": "Python 3 (ipykernel)",
   "language": "python",
   "name": "python3"
  },
  "language_info": {
   "codemirror_mode": {
    "name": "ipython",
    "version": 3
   },
   "file_extension": ".py",
   "mimetype": "text/x-python",
   "name": "python",
   "nbconvert_exporter": "python",
   "pygments_lexer": "ipython3",
   "version": "3.11.5"
  }
 },
 "nbformat": 4,
 "nbformat_minor": 5
}
