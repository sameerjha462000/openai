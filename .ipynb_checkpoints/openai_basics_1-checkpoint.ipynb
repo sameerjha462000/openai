{
 "cells": [
  {
   "cell_type": "code",
   "execution_count": 1,
   "id": "53664216",
   "metadata": {},
   "outputs": [],
   "source": [
    "import openai"
   ]
  },
  {
   "cell_type": "code",
   "execution_count": 2,
   "id": "bac6421e",
   "metadata": {},
   "outputs": [],
   "source": [
    "from dotenv import dotenv_values"
   ]
  },
  {
   "cell_type": "code",
   "execution_count": 3,
   "id": "8927d663",
   "metadata": {},
   "outputs": [],
   "source": [
    "config = dotenv_values('.env')"
   ]
  },
  {
   "cell_type": "code",
   "execution_count": 4,
   "id": "14acd5f9",
   "metadata": {},
   "outputs": [],
   "source": [
    "openai.api_key = config['API_KEY']"
   ]
  },
  {
   "cell_type": "code",
   "execution_count": 5,
   "id": "1c9ac40d",
   "metadata": {},
   "outputs": [],
   "source": [
    "response = openai.Completion.create(\n",
    "    model = 'text-davinci-003',\n",
    "    prompt = 'The cat says '\n",
    ")"
   ]
  },
  {
   "cell_type": "code",
   "execution_count": 6,
   "id": "9e0afe47",
   "metadata": {},
   "outputs": [
    {
     "data": {
      "text/plain": [
       "<OpenAIObject text_completion id=cmpl-8bqBHIx5Jsm1xkKwr2gbM7wWfK0au at 0x253fd7071d0> JSON: {\n",
       "  \"warning\": \"This model version is deprecated. Migrate before January 4, 2024 to avoid disruption of service. Learn more https://platform.openai.com/docs/deprecations\",\n",
       "  \"id\": \"cmpl-8bqBHIx5Jsm1xkKwr2gbM7wWfK0au\",\n",
       "  \"object\": \"text_completion\",\n",
       "  \"created\": 1704029411,\n",
       "  \"model\": \"text-davinci-003\",\n",
       "  \"choices\": [\n",
       "    {\n",
       "      \"text\": \"\\nMeow!\",\n",
       "      \"index\": 0,\n",
       "      \"logprobs\": null,\n",
       "      \"finish_reason\": \"stop\"\n",
       "    }\n",
       "  ],\n",
       "  \"usage\": {\n",
       "    \"prompt_tokens\": 4,\n",
       "    \"completion_tokens\": 4,\n",
       "    \"total_tokens\": 8\n",
       "  }\n",
       "}"
      ]
     },
     "execution_count": 6,
     "metadata": {},
     "output_type": "execute_result"
    }
   ],
   "source": [
    "response"
   ]
  },
  {
   "cell_type": "code",
   "execution_count": 7,
   "id": "1ae50203",
   "metadata": {},
   "outputs": [
    {
     "data": {
      "text/plain": [
       "'\\nMeow!'"
      ]
     },
     "execution_count": 7,
     "metadata": {},
     "output_type": "execute_result"
    }
   ],
   "source": [
    "ans = response['choices'][0]['text']\n",
    "ans"
   ]
  },
  {
   "cell_type": "code",
   "execution_count": 8,
   "id": "ebcc15fa",
   "metadata": {},
   "outputs": [
    {
     "name": "stdout",
     "output_type": "stream",
     "text": [
      "\n",
      "Meow!\n"
     ]
    }
   ],
   "source": [
    "print(ans)"
   ]
  },
  {
   "cell_type": "markdown",
   "id": "df461af2",
   "metadata": {},
   "source": [
    "# max_tokens"
   ]
  },
  {
   "cell_type": "code",
   "execution_count": 9,
   "id": "dc332190",
   "metadata": {},
   "outputs": [
    {
     "data": {
      "text/plain": [
       "<OpenAIObject text_completion id=cmpl-8bqBUzOMyludFOVYYS9RhaV5DyWgZ at 0x253fd705550> JSON: {\n",
       "  \"warning\": \"This model version is deprecated. Migrate before January 4, 2024 to avoid disruption of service. Learn more https://platform.openai.com/docs/deprecations\",\n",
       "  \"id\": \"cmpl-8bqBUzOMyludFOVYYS9RhaV5DyWgZ\",\n",
       "  \"object\": \"text_completion\",\n",
       "  \"created\": 1704029424,\n",
       "  \"model\": \"text-davinci-003\",\n",
       "  \"choices\": [\n",
       "    {\n",
       "      \"text\": \"\\n\\n1. London, England \\n2. New York City, USA\",\n",
       "      \"index\": 0,\n",
       "      \"logprobs\": null,\n",
       "      \"finish_reason\": \"length\"\n",
       "    }\n",
       "  ],\n",
       "  \"usage\": {\n",
       "    \"prompt_tokens\": 9,\n",
       "    \"completion_tokens\": 16,\n",
       "    \"total_tokens\": 25\n",
       "  }\n",
       "}"
      ]
     },
     "execution_count": 9,
     "metadata": {},
     "output_type": "execute_result"
    }
   ],
   "source": [
    "response = openai.Completion.create(\n",
    "    model = 'text-davinci-003',\n",
    "    prompt = 'The top 10 cities in world are : '\n",
    ")\n",
    "response"
   ]
  },
  {
   "cell_type": "code",
   "execution_count": 10,
   "id": "1c35b7b6",
   "metadata": {},
   "outputs": [],
   "source": [
    "ans = response['choices'][0]['text']"
   ]
  },
  {
   "cell_type": "code",
   "execution_count": 11,
   "id": "ec723cf2",
   "metadata": {},
   "outputs": [
    {
     "name": "stdout",
     "output_type": "stream",
     "text": [
      "\n",
      "\n",
      "1. London, England \n",
      "2. New York City, USA\n"
     ]
    }
   ],
   "source": [
    "print(ans) # we get only the top 2 cities but we asked for top 10 cities"
   ]
  },
  {
   "cell_type": "code",
   "execution_count": 12,
   "id": "7d6eabd9",
   "metadata": {},
   "outputs": [],
   "source": [
    "# max_tokens sets the number of maximum tokens we want in our completion text"
   ]
  },
  {
   "cell_type": "code",
   "execution_count": 13,
   "id": "f25bbe94",
   "metadata": {},
   "outputs": [],
   "source": [
    "response = openai.Completion.create(\n",
    "    model = 'text-davinci-003',\n",
    "    prompt = 'The top 10 cities in world are : ',\n",
    "    max_tokens = 100\n",
    ")"
   ]
  },
  {
   "cell_type": "code",
   "execution_count": 14,
   "id": "720f891d",
   "metadata": {},
   "outputs": [
    {
     "name": "stdout",
     "output_type": "stream",
     "text": [
      "\n",
      "\n",
      "1. London, United Kingdom\n",
      "2. New York City, USA\n",
      "3. Tokyo, Japan\n",
      "4. Beijing, China\n",
      "5. Hong Kong, China\n",
      "6. Paris, France\n",
      "7. Singapore\n",
      "8. Istanbul, Turkey\n",
      "9. Seoul, South Korea\n",
      "10. Dubai, United Arab Emirates\n"
     ]
    }
   ],
   "source": [
    "print(response['choices'][0]['text'])"
   ]
  },
  {
   "cell_type": "markdown",
   "id": "350135be",
   "metadata": {},
   "source": [
    "# stop"
   ]
  },
  {
   "cell_type": "code",
   "execution_count": 18,
   "id": "6ccc7f1b",
   "metadata": {},
   "outputs": [],
   "source": [
    "response = openai.Completion.create(\n",
    "    model = 'text-davinci-003',\n",
    "    prompt = 'The top 10 cities in world are : ',\n",
    "    max_tokens = 100,\n",
    "    stop = '5.'\n",
    ")"
   ]
  },
  {
   "cell_type": "code",
   "execution_count": 19,
   "id": "98bf09c0",
   "metadata": {},
   "outputs": [],
   "source": [
    "ans = response['choices'][0]['text']"
   ]
  },
  {
   "cell_type": "code",
   "execution_count": 20,
   "id": "1d0d733d",
   "metadata": {},
   "outputs": [
    {
     "name": "stdout",
     "output_type": "stream",
     "text": [
      "\n",
      "\n",
      "1. London, United Kingdom \n",
      "2. Paris, France \n",
      "3. Tokyo, Japan \n",
      "4. New York, USA \n",
      "\n"
     ]
    }
   ],
   "source": [
    "print(ans)"
   ]
  },
  {
   "cell_type": "code",
   "execution_count": 21,
   "id": "e0cb0cc3",
   "metadata": {},
   "outputs": [],
   "source": [
    "# stop parameter takes a string or a sequence of strings which is required to stop the model to\n",
    "# generate further completion tokens."
   ]
  },
  {
   "cell_type": "code",
   "execution_count": 22,
   "id": "21c5bd47",
   "metadata": {},
   "outputs": [
    {
     "data": {
      "text/plain": [
       "<OpenAIObject text_completion id=cmpl-8bqHR8huBZIRtKXLH0GC2N80dpBsH at 0x253fd7076b0> JSON: {\n",
       "  \"warning\": \"This model version is deprecated. Migrate before January 4, 2024 to avoid disruption of service. Learn more https://platform.openai.com/docs/deprecations\",\n",
       "  \"id\": \"cmpl-8bqHR8huBZIRtKXLH0GC2N80dpBsH\",\n",
       "  \"object\": \"text_completion\",\n",
       "  \"created\": 1704029793,\n",
       "  \"model\": \"text-davinci-003\",\n",
       "  \"choices\": [\n",
       "    {\n",
       "      \"text\": \"\\n    What can you do for me?\",\n",
       "      \"index\": 0,\n",
       "      \"logprobs\": null,\n",
       "      \"finish_reason\": \"stop\"\n",
       "    }\n",
       "  ],\n",
       "  \"usage\": {\n",
       "    \"prompt_tokens\": 55,\n",
       "    \"completion_tokens\": 9,\n",
       "    \"total_tokens\": 64\n",
       "  }\n",
       "}"
      ]
     },
     "execution_count": 22,
     "metadata": {},
     "output_type": "execute_result"
    }
   ],
   "source": [
    "openai.Completion.create(\n",
    "    model = 'text-davinci-003',\n",
    "    prompt = '''\n",
    "        User: Hi, My name is Abhishek Jha. What is your name?\n",
    "        Bot: Hi, I am chat bot. Nice to meet you Abhishek. What would you like to know about?\n",
    "        User: \n",
    "    ''',\n",
    "    max_tokens = 100,\n",
    ")"
   ]
  },
  {
   "cell_type": "code",
   "execution_count": 23,
   "id": "a59bd090",
   "metadata": {},
   "outputs": [
    {
     "data": {
      "text/plain": [
       "<OpenAIObject text_completion id=cmpl-8bqI38NDICN0hm4CCfUrKNOj0VYiF at 0x253fd74c650> JSON: {\n",
       "  \"warning\": \"This model version is deprecated. Migrate before January 4, 2024 to avoid disruption of service. Learn more https://platform.openai.com/docs/deprecations\",\n",
       "  \"id\": \"cmpl-8bqI38NDICN0hm4CCfUrKNOj0VYiF\",\n",
       "  \"object\": \"text_completion\",\n",
       "  \"created\": 1704029831,\n",
       "  \"model\": \"text-davinci-003\",\n",
       "  \"choices\": [\n",
       "    {\n",
       "      \"text\": \"\\nI can help you find answers to your questions, provide you with the latest information, and even track your progress. I'm always here to help!\",\n",
       "      \"index\": 0,\n",
       "      \"logprobs\": null,\n",
       "      \"finish_reason\": \"stop\"\n",
       "    }\n",
       "  ],\n",
       "  \"usage\": {\n",
       "    \"prompt_tokens\": 66,\n",
       "    \"completion_tokens\": 31,\n",
       "    \"total_tokens\": 97\n",
       "  }\n",
       "}"
      ]
     },
     "execution_count": 23,
     "metadata": {},
     "output_type": "execute_result"
    }
   ],
   "source": [
    "openai.Completion.create(\n",
    "    model = 'text-davinci-003',\n",
    "    prompt = '''\n",
    "        User: Hi, My name is Abhishek Jha. What is your name?\n",
    "        Bot: Hi, I am chat bot. Nice to meet you Abhishek. What would you like to know about?\n",
    "        User: What can you do for me?\n",
    "        Bot:\n",
    "    ''',\n",
    "    max_tokens = 100,\n",
    ")"
   ]
  },
  {
   "cell_type": "code",
   "execution_count": 24,
   "id": "ed080455",
   "metadata": {},
   "outputs": [
    {
     "data": {
      "text/plain": [
       "<OpenAIObject text_completion id=cmpl-8bqIx6H1SBH7gPPFZdkuBmtVt7qC4 at 0x253fd74c830> JSON: {\n",
       "  \"warning\": \"This model version is deprecated. Migrate before January 4, 2024 to avoid disruption of service. Learn more https://platform.openai.com/docs/deprecations\",\n",
       "  \"id\": \"cmpl-8bqIx6H1SBH7gPPFZdkuBmtVt7qC4\",\n",
       "  \"object\": \"text_completion\",\n",
       "  \"created\": 1704029887,\n",
       "  \"model\": \"text-davinci-003\",\n",
       "  \"choices\": [\n",
       "    {\n",
       "      \"text\": \"That's great! Can you tell me about the different types of chatbots?\\n        \\n        Bot: Absolutely! Chatbots can be used for a variety of purposes. Some are used for customer service, providing quick responses to frequently asked questions or helping customers fill out forms. Others are used for entertainment, offering games or trivia to keep you entertained. Some are even used for educational purposes, providing you with information about a specific topic.\",\n",
       "      \"index\": 0,\n",
       "      \"logprobs\": null,\n",
       "      \"finish_reason\": \"stop\"\n",
       "    }\n",
       "  ],\n",
       "  \"usage\": {\n",
       "    \"prompt_tokens\": 100,\n",
       "    \"completion_tokens\": 88,\n",
       "    \"total_tokens\": 188\n",
       "  }\n",
       "}"
      ]
     },
     "execution_count": 24,
     "metadata": {},
     "output_type": "execute_result"
    }
   ],
   "source": [
    "openai.Completion.create(\n",
    "    model = 'text-davinci-003',\n",
    "    prompt = '''\n",
    "        User: Hi, My name is Abhishek Jha. What is your name?\n",
    "        Bot: Hi, I am chat bot. Nice to meet you Abhishek. What would you like to know about?\n",
    "        User: What can you do for me?\n",
    "        Bot: I can help you find answers to your questions, provide you with the latest information, and even track your progress. I'm always here to help!\n",
    "        User:\n",
    "    ''',\n",
    "    max_tokens = 100,\n",
    ")\n",
    "\n",
    "# This time it also completed the answer for Bot\n",
    "# To stop this we may pass the stop parameter a list of string. As soon as it encounters a string\n",
    "# from our specified array, the model would stop generating extra completion tokens."
   ]
  },
  {
   "cell_type": "code",
   "execution_count": 25,
   "id": "b4b0185a",
   "metadata": {},
   "outputs": [
    {
     "data": {
      "text/plain": [
       "<OpenAIObject text_completion id=cmpl-8bqLwHmxrZGS5tfRgt3Zvoql8LFl3 at 0x253fd74ce90> JSON: {\n",
       "  \"warning\": \"This model version is deprecated. Migrate before January 4, 2024 to avoid disruption of service. Learn more https://platform.openai.com/docs/deprecations\",\n",
       "  \"id\": \"cmpl-8bqLwHmxrZGS5tfRgt3Zvoql8LFl3\",\n",
       "  \"object\": \"text_completion\",\n",
       "  \"created\": 1704030072,\n",
       "  \"model\": \"text-davinci-003\",\n",
       "  \"choices\": [\n",
       "    {\n",
       "      \"text\": \" great! Can you provide me with some examples of chat bots?\\n        \",\n",
       "      \"index\": 0,\n",
       "      \"logprobs\": null,\n",
       "      \"finish_reason\": \"stop\"\n",
       "    }\n",
       "  ],\n",
       "  \"usage\": {\n",
       "    \"prompt_tokens\": 191,\n",
       "    \"completion_tokens\": 16,\n",
       "    \"total_tokens\": 207\n",
       "  }\n",
       "}"
      ]
     },
     "execution_count": 25,
     "metadata": {},
     "output_type": "execute_result"
    }
   ],
   "source": [
    "openai.Completion.create(\n",
    "    model = 'text-davinci-003',\n",
    "    prompt = '''\n",
    "        User: Hi, My name is Abhishek Jha. What is your name?\n",
    "        Bot: Hi, I am chat bot. Nice to meet you Abhishek. What would you like to know about?\n",
    "        User: What can you do for me?\n",
    "        Bot: I can help you find answers to your questions, provide you with the latest information, and even track your progress. I'm always here to help!\n",
    "        User: That's great! Can you tell me about the different types of chatbots?\n",
    "        Bot: Absolutely! Chatbots can be used for a variety of purposes. Some are used for customer service, providing quick responses to frequently asked questions or helping customers fill out forms. Others are used for entertainment, offering games or trivia to keep you entertained. Some are even used for educational purposes, providing you with information about a specific topic.\n",
    "        User: \n",
    "    ''',\n",
    "    max_tokens = 100,\n",
    "    stop = ['User', 'Bot']\n",
    ")"
   ]
  },
  {
   "cell_type": "code",
   "execution_count": 26,
   "id": "ec00d8bf",
   "metadata": {},
   "outputs": [
    {
     "data": {
      "text/plain": [
       "<OpenAIObject text_completion id=cmpl-8bqMMuIuIcwBW2EApW9xrRmd8ndwh at 0x253fd74cf50> JSON: {\n",
       "  \"warning\": \"This model version is deprecated. Migrate before January 4, 2024 to avoid disruption of service. Learn more https://platform.openai.com/docs/deprecations\",\n",
       "  \"id\": \"cmpl-8bqMMuIuIcwBW2EApW9xrRmd8ndwh\",\n",
       "  \"object\": \"text_completion\",\n",
       "  \"created\": 1704030098,\n",
       "  \"model\": \"text-davinci-003\",\n",
       "  \"choices\": [\n",
       "    {\n",
       "      \"text\": \"\\nSure! Some popular examples of chatbots include Siri, Alexa, Cortana, and Google Assistant. Other more specialized bots include bots specifically designed to help doctors with medical diagnosis, bots to help teachers in the classroom and bots to help customers in online stores.\",\n",
       "      \"index\": 0,\n",
       "      \"logprobs\": null,\n",
       "      \"finish_reason\": \"stop\"\n",
       "    }\n",
       "  ],\n",
       "  \"usage\": {\n",
       "    \"prompt_tokens\": 208,\n",
       "    \"completion_tokens\": 51,\n",
       "    \"total_tokens\": 259\n",
       "  }\n",
       "}"
      ]
     },
     "execution_count": 26,
     "metadata": {},
     "output_type": "execute_result"
    }
   ],
   "source": [
    "openai.Completion.create(\n",
    "    model = 'text-davinci-003',\n",
    "    prompt = '''\n",
    "        User: Hi, My name is Abhishek Jha. What is your name?\n",
    "        Bot: Hi, I am chat bot. Nice to meet you Abhishek. What would you like to know about?\n",
    "        User: What can you do for me?\n",
    "        Bot: I can help you find answers to your questions, provide you with the latest information, and even track your progress. I'm always here to help!\n",
    "        User: That's great! Can you tell me about the different types of chatbots?\n",
    "        Bot: Absolutely! Chatbots can be used for a variety of purposes. Some are used for customer service, providing quick responses to frequently asked questions or helping customers fill out forms. Others are used for entertainment, offering games or trivia to keep you entertained. Some are even used for educational purposes, providing you with information about a specific topic.\n",
    "        User: great! Can you provide me with some examples of chat bots?\n",
    "        Bot: \n",
    "    ''',\n",
    "    max_tokens = 100,\n",
    "    stop = ['User', 'Bot']\n",
    ")"
   ]
  },
  {
   "cell_type": "markdown",
   "id": "6bf95869",
   "metadata": {},
   "source": [
    "# echo"
   ]
  },
  {
   "cell_type": "code",
   "execution_count": 28,
   "id": "7b4fbc9d",
   "metadata": {},
   "outputs": [
    {
     "data": {
      "text/plain": [
       "<OpenAIObject text_completion id=cmpl-8bqP9acV97uMGtEsJ85cn27KXeZet at 0x253fd74d1f0> JSON: {\n",
       "  \"warning\": \"This model version is deprecated. Migrate before January 4, 2024 to avoid disruption of service. Learn more https://platform.openai.com/docs/deprecations\",\n",
       "  \"id\": \"cmpl-8bqP9acV97uMGtEsJ85cn27KXeZet\",\n",
       "  \"object\": \"text_completion\",\n",
       "  \"created\": 1704030271,\n",
       "  \"model\": \"text-davinci-003\",\n",
       "  \"choices\": [\n",
       "    {\n",
       "      \"text\": \"What is the capital of India?\\n\\nThe capital of India is New Delhi.\",\n",
       "      \"index\": 0,\n",
       "      \"logprobs\": null,\n",
       "      \"finish_reason\": \"stop\"\n",
       "    }\n",
       "  ],\n",
       "  \"usage\": {\n",
       "    \"prompt_tokens\": 7,\n",
       "    \"completion_tokens\": 10,\n",
       "    \"total_tokens\": 17\n",
       "  }\n",
       "}"
      ]
     },
     "execution_count": 28,
     "metadata": {},
     "output_type": "execute_result"
    }
   ],
   "source": [
    "# echo is used to include the prompt in the completion.\n",
    "# This however does not get added in the max_tokens paramters. That is exclusive of the prompt.\n",
    "openai.Completion.create(\n",
    "    model = 'text-davinci-003',\n",
    "    prompt = 'What is the capital of India?',\n",
    "    echo = True\n",
    ")"
   ]
  },
  {
   "cell_type": "markdown",
   "id": "444d9581",
   "metadata": {},
   "source": [
    "# n"
   ]
  },
  {
   "cell_type": "code",
   "execution_count": 32,
   "id": "eefb1108",
   "metadata": {},
   "outputs": [
    {
     "data": {
      "text/plain": [
       "<OpenAIObject text_completion id=cmpl-8bqTP52p1ZCYILkaqhH8XoSMbAwiq at 0x253fd74d670> JSON: {\n",
       "  \"warning\": \"This model version is deprecated. Migrate before January 4, 2024 to avoid disruption of service. Learn more https://platform.openai.com/docs/deprecations\",\n",
       "  \"id\": \"cmpl-8bqTP52p1ZCYILkaqhH8XoSMbAwiq\",\n",
       "  \"object\": \"text_completion\",\n",
       "  \"created\": 1704030535,\n",
       "  \"model\": \"text-davinci-003\",\n",
       "  \"choices\": [\n",
       "    {\n",
       "      \"text\": \"\\n\\nAst\",\n",
       "      \"index\": 0,\n",
       "      \"logprobs\": null,\n",
       "      \"finish_reason\": \"length\"\n",
       "    },\n",
       "    {\n",
       "      \"text\": \"\\n\\nAst\",\n",
       "      \"index\": 1,\n",
       "      \"logprobs\": null,\n",
       "      \"finish_reason\": \"length\"\n",
       "    },\n",
       "    {\n",
       "      \"text\": \"\\n\\nThe\",\n",
       "      \"index\": 2,\n",
       "      \"logprobs\": null,\n",
       "      \"finish_reason\": \"length\"\n",
       "    }\n",
       "  ],\n",
       "  \"usage\": {\n",
       "    \"prompt_tokens\": 5,\n",
       "    \"completion_tokens\": 9,\n",
       "    \"total_tokens\": 14\n",
       "  }\n",
       "}"
      ]
     },
     "execution_count": 32,
     "metadata": {},
     "output_type": "execute_result"
    }
   ],
   "source": [
    "openai.Completion.create(\n",
    "    model = 'text-davinci-003',\n",
    "    prompt = 'Is Astrology real ?',\n",
    "    n = 3,\n",
    "    max_tokens = 3 # This the is the maximum number of tokens for each completion and not the total number\n",
    "    # of tokens available for completion\n",
    ")"
   ]
  },
  {
   "cell_type": "markdown",
   "id": "cf3407af",
   "metadata": {},
   "source": [
    "# Prompt Engineering"
   ]
  },
  {
   "cell_type": "code",
   "execution_count": 33,
   "id": "c3c4f81e",
   "metadata": {},
   "outputs": [],
   "source": [
    "# Instruction should not contain fluffy language\n",
    "# Try to be precise"
   ]
  },
  {
   "cell_type": "code",
   "execution_count": 37,
   "id": "18d87e63",
   "metadata": {},
   "outputs": [
    {
     "data": {
      "text/plain": [
       "<OpenAIObject text_completion id=cmpl-8bqYfv4I6ImAYQlxZ6aWTZUdCKfDT at 0x253fd74f0b0> JSON: {\n",
       "  \"warning\": \"This model version is deprecated. Migrate before January 4, 2024 to avoid disruption of service. Learn more https://platform.openai.com/docs/deprecations\",\n",
       "  \"id\": \"cmpl-8bqYfv4I6ImAYQlxZ6aWTZUdCKfDT\",\n",
       "  \"object\": \"text_completion\",\n",
       "  \"created\": 1704030861,\n",
       "  \"model\": \"text-davinci-003\",\n",
       "  \"choices\": [\n",
       "    {\n",
       "      \"text\": \"\\nAnswer: Delhi, New Delhi, Ghaziabad, Noida, Greater Noida, Meerut, YEIDA City, Gurgaon, Faridabad\",\n",
       "      \"index\": 0,\n",
       "      \"logprobs\": null,\n",
       "      \"finish_reason\": \"stop\"\n",
       "    }\n",
       "  ],\n",
       "  \"usage\": {\n",
       "    \"prompt_tokens\": 152,\n",
       "    \"completion_tokens\": 35,\n",
       "    \"total_tokens\": 187\n",
       "  }\n",
       "}"
      ]
     },
     "execution_count": 37,
     "metadata": {},
     "output_type": "execute_result"
    }
   ],
   "source": [
    "# as suggested by openai documentations\n",
    "openai.Completion.create(\n",
    "    model = 'text-davinci-003',\n",
    "    prompt = '''\n",
    "        ###Instructions###\n",
    "        Give the name of cities in the following paragraph\n",
    "        \n",
    "        Text: Although colloquially Delhi and New Delhi are used interchangeably \n",
    "        to refer to the National Capital Territory of Delhi, both are distinct entities, \n",
    "        with the municipality and the New Delhi district forming a relatively small part \n",
    "        within the megacity of Delhi. The National Capital Region is an even larger entity, \n",
    "        comprising the entire NCT along with adjoining districts in the two neighbouring states \n",
    "        forming a continuous built-up area with it, including Ghaziabad, Noida, Greater Noida, \n",
    "        Meerut, YEIDA City, Gurgaon and Faridabad.\n",
    "    ''',\n",
    "    max_tokens = 100\n",
    ")"
   ]
  },
  {
   "cell_type": "markdown",
   "id": "43932d0e",
   "metadata": {},
   "source": [
    "# output instructions"
   ]
  },
  {
   "cell_type": "code",
   "execution_count": 42,
   "id": "c834bc1f",
   "metadata": {},
   "outputs": [
    {
     "name": "stdout",
     "output_type": "stream",
     "text": [
      "\n",
      "cities: Delhi, New Delhi, Ghaziabad, Noida, Greater Noida, Meerut, YEIDA City, Gurgaon, Faridabad\n"
     ]
    }
   ],
   "source": [
    "ans = openai.Completion.create(\n",
    "    model = 'text-davinci-003',\n",
    "    prompt = '''\n",
    "        ###Instructions###\n",
    "        Give the name of cities in the following paragraph\n",
    "        \n",
    "        Desired format:\n",
    "        cities: <name_of_cities_seperated_by_commas>\n",
    "        \n",
    "        Text: Although colloquially Delhi and New Delhi are used interchangeably \n",
    "        to refer to the National Capital Territory of Delhi, both are distinct entities, \n",
    "        with the municipality and the New Delhi district forming a relatively small part \n",
    "        within the megacity of Delhi. The National Capital Region is an even larger entity, \n",
    "        comprising the entire NCT along with adjoining districts in the two neighbouring states \n",
    "        forming a continuous built-up area with it, including Ghaziabad, Noida, Greater Noida, \n",
    "        Meerut, YEIDA City, Gurgaon and Faridabad.\n",
    "    ''',\n",
    "    max_tokens = 100\n",
    ")['choices'][0]['text']\n",
    "print(ans)"
   ]
  },
  {
   "cell_type": "code",
   "execution_count": 43,
   "id": "f70edcd6",
   "metadata": {},
   "outputs": [],
   "source": [
    "ans = openai.Completion.create(\n",
    "    model = 'text-davinci-003',\n",
    "    prompt = '''\n",
    "        ###Instructions###\n",
    "        Give a list of top 10 most commonly used blackpilled words.\n",
    "        \n",
    "        Desired format:\n",
    "        words: <name_of_words_seperated_by_commas>\n",
    "        \n",
    "    ''',\n",
    "    max_tokens = 100\n",
    ")['choices'][0]['text']"
   ]
  },
  {
   "cell_type": "code",
   "execution_count": 44,
   "id": "d03924e4",
   "metadata": {},
   "outputs": [
    {
     "name": "stdout",
     "output_type": "stream",
     "text": [
      "\n",
      "\n",
      "words: Incel, Blackpill, Truecel, Chad,Becky,Cope,Looksmax,Blow off,Stacy,Spherecel\n"
     ]
    }
   ],
   "source": [
    "print(ans)"
   ]
  },
  {
   "cell_type": "code",
   "execution_count": 46,
   "id": "e1487202",
   "metadata": {},
   "outputs": [
    {
     "name": "stdout",
     "output_type": "stream",
     "text": [
      "\n",
      "        {\n",
      "            \"China\": 1412947000,\n",
      "            \"India\": 1317488000,\n",
      "            \"United States\": 330183920,\n",
      "            \"Indonesia\": 266845133,\n",
      "            \"Brazil\": 211859333,\n",
      "            \"Pakistan\": 221485015,\n",
      "            \"Nigeria\": 206139589,\n",
      "            \"Bangladesh\": 166368149,\n",
      "            \"Russia\": 146804372,\n",
      "            \"Mexico\": 130785094  \n",
      "        }\n"
     ]
    }
   ],
   "source": [
    "ans = openai.Completion.create(\n",
    "    model = 'text-davinci-003',\n",
    "    prompt = '''\n",
    "        ###Instructions###\n",
    "        Give a list of top 10 most populated countries in the world with their populations.\n",
    "        \n",
    "        Desired format:\n",
    "        JSON with key as country name and value as populations\n",
    "        \n",
    "    ''',\n",
    "    max_tokens = 200\n",
    ")['choices'][0]['text']\n",
    "print(ans)"
   ]
  },
  {
   "cell_type": "code",
   "execution_count": 50,
   "id": "4dc6b1a4",
   "metadata": {},
   "outputs": [
    {
     "name": "stdout",
     "output_type": "stream",
     "text": [
      "\n",
      "        [\"Percy Deift\", \"Srinivasa Ramanujan\", \"Cedric Villani\", \"Terence Tao\", \"Timothy Gowers\", \"Maryam Mirzakhani\", \"Manjul Bhargava\", \"David Mumford\", \"Stephen Smale\", \"John Nash\"]\n"
     ]
    }
   ],
   "source": [
    "ans = openai.Completion.create(\n",
    "    model = 'text-davinci-003',\n",
    "    prompt = '''\n",
    "        ###Instructions###\n",
    "        Give a list of top 10 mathematicians of the 21st century.\n",
    "        \n",
    "        Desired format:\n",
    "        JSON array\n",
    "        \n",
    "    ''',\n",
    "    max_tokens = 200\n",
    ")['choices'][0]['text']\n",
    "print(ans)"
   ]
  },
  {
   "cell_type": "markdown",
   "id": "33ad5485",
   "metadata": {},
   "source": [
    "# Let's think step by step prompting"
   ]
  },
  {
   "cell_type": "code",
   "execution_count": 51,
   "id": "ef290363",
   "metadata": {},
   "outputs": [
    {
     "name": "stdout",
     "output_type": "stream",
     "text": [
      "\n",
      "\n",
      "Alice is 22 years older than Erica.\n"
     ]
    }
   ],
   "source": [
    "ans = openai.Completion.create(\n",
    "    model = 'text-davinci-003',\n",
    "    prompt = '''Alice is 7 years older than Beth who is 5 years older than Erica. What is the\n",
    "                age difference between Alice and Erica if Erica is 30 years old. ''',\n",
    "    max_tokens = 100\n",
    ")['choices'][0]['text']\n",
    "print(ans)\n",
    "\n",
    "# And obviously the answer is wrong\n",
    "# There are many instances where the openai text completion models get wrong.\n",
    "\n",
    "# So, in this case we use 'Let's think step by step prompting'."
   ]
  },
  {
   "cell_type": "code",
   "execution_count": 52,
   "id": "be81ad4c",
   "metadata": {},
   "outputs": [
    {
     "name": "stdout",
     "output_type": "stream",
     "text": [
      " Beth is 5 years older than Erica, so if Erica is 30 years old, then Beth is 35.  Alice is then 7 years older than Beth. This means Alice is 42 years old. The age difference between Alice and Erica is therefore 42 - 30 = 12 years.\n"
     ]
    }
   ],
   "source": [
    "ans = openai.Completion.create(\n",
    "    model = 'text-davinci-003',\n",
    "    prompt = '''Alice is 7 years older than Beth who is 5 years older than Erica. What is the\n",
    "                age difference between Alice and Erica if Erica is 30 years old. \n",
    "                Let's think step by step.''',\n",
    "    max_tokens = 100\n",
    ")['choices'][0]['text']\n",
    "print(ans)"
   ]
  },
  {
   "cell_type": "markdown",
   "id": "504cf674",
   "metadata": {},
   "source": [
    "# Text transformation prompt"
   ]
  },
  {
   "cell_type": "code",
   "execution_count": 54,
   "id": "5273e638",
   "metadata": {},
   "outputs": [
    {
     "name": "stdout",
     "output_type": "stream",
     "text": [
      "\n",
      "German: Meine Lieblingsfarbe ist lila.\n",
      "Russian: Мой любимый цвет - фиолетовый.\n",
      "Japanese: 私の好きな色は紫です。\n",
      "Hindi: मेरा पसंदीदा रंग बैंगनी है।\n"
     ]
    }
   ],
   "source": [
    "ans = openai.Completion.create(\n",
    "    model = 'text-davinci-003',\n",
    "    prompt = '''\n",
    "                Translate the following text to german, russian, japanese and hindi.\n",
    "                Text: My favourite color is purple.\n",
    "                ''',\n",
    "    max_tokens = 400\n",
    ")['choices'][0]['text']\n",
    "print(ans)"
   ]
  },
  {
   "cell_type": "code",
   "execution_count": null,
   "id": "aaabf2d4",
   "metadata": {},
   "outputs": [],
   "source": []
  }
 ],
 "metadata": {
  "kernelspec": {
   "display_name": "Python 3 (ipykernel)",
   "language": "python",
   "name": "python3"
  },
  "language_info": {
   "codemirror_mode": {
    "name": "ipython",
    "version": 3
   },
   "file_extension": ".py",
   "mimetype": "text/x-python",
   "name": "python",
   "nbconvert_exporter": "python",
   "pygments_lexer": "ipython3",
   "version": "3.11.5"
  }
 },
 "nbformat": 4,
 "nbformat_minor": 5
}
