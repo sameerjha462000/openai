{
 "cells": [
  {
   "cell_type": "code",
   "execution_count": 1,
   "id": "301d6e2e",
   "metadata": {},
   "outputs": [],
   "source": [
    "import openai"
   ]
  },
  {
   "cell_type": "code",
   "execution_count": 2,
   "id": "d7628fc5",
   "metadata": {},
   "outputs": [],
   "source": [
    "import os"
   ]
  },
  {
   "cell_type": "code",
   "execution_count": 4,
   "id": "b5e000e1",
   "metadata": {},
   "outputs": [],
   "source": [
    "openai.api_key = os.environ['OPENAI_API_KEY']"
   ]
  },
  {
   "cell_type": "markdown",
   "id": "9fee3405",
   "metadata": {},
   "source": [
    "# temperature"
   ]
  },
  {
   "cell_type": "code",
   "execution_count": 5,
   "id": "4ca7fa02",
   "metadata": {},
   "outputs": [],
   "source": [
    "# The more the temperature the more the randomness in the answer.\n",
    "# The value of temperature lies between 0 and 2 (both inclusive).\n",
    "# As the temperature goes above 1, the answers becomes weird also."
   ]
  },
  {
   "cell_type": "code",
   "execution_count": 15,
   "id": "4a3ebca4",
   "metadata": {},
   "outputs": [],
   "source": [
    "def incomplete_love_story(temperature):\n",
    "    response = openai.Completion.create(\n",
    "        model = 'text-davinci-003',\n",
    "        prompt = 'Tell me an incomplete love story',\n",
    "        max_tokens = 500,\n",
    "        temperature = temperature\n",
    "    )\n",
    "    \n",
    "    return response.choices[0].text"
   ]
  },
  {
   "cell_type": "code",
   "execution_count": 16,
   "id": "0c4f9bba",
   "metadata": {},
   "outputs": [
    {
     "name": "stdout",
     "output_type": "stream",
     "text": [
      "\n",
      "\n",
      "Once upon a time, there was a young man named John who had been searching for true love his entire life. He had been through many relationships, but none of them had ever felt quite right. One day, he met a beautiful woman named Sarah and he knew right away that she was the one. They quickly fell in love and began spending every moment together. But then, tragedy struck and Sarah was taken away from him. John was left heartbroken and devastated, not knowing what to do without her. He was determined to find her and get her back, no matter what it took.\n"
     ]
    }
   ],
   "source": [
    "print(incomplete_love_story(temperature = 0)) # The love story makes sense"
   ]
  },
  {
   "cell_type": "code",
   "execution_count": 17,
   "id": "7cf39801",
   "metadata": {},
   "outputs": [
    {
     "name": "stdout",
     "output_type": "stream",
     "text": [
      "\n",
      "\n",
      "Once upon a time there was a girl named Mary who had a huge crush on a boy named John. She was too shy to tell him how she felt, but one day she mustered up the courage to tell him. John was surprised by her confession, but he felt the same way. They started spending more and more time together and eventually fell in love. But then Mary's family had to move away and they were forced to say goodbye. They promised to keep in touch, but the distance made it difficult. They wrote each other letters and talked on the phone, but eventually the calls and letters stopped. Mary and John never saw each other again, but they never forgot each other.\n"
     ]
    }
   ],
   "source": [
    "print(incomplete_love_story(temperature = 0.5)) # The love story is somewhat creative"
   ]
  },
  {
   "cell_type": "code",
   "execution_count": 23,
   "id": "bcddcff4",
   "metadata": {},
   "outputs": [
    {
     "name": "stdout",
     "output_type": "stream",
     "text": [
      "\n",
      "\n",
      "Once upon a time, there was a boy named John and girl named Ellie. They both were incredibly attracted to one another and felt like the other completed them. One day, after months of flirting, John finally asked Ellie out. She, of course, said yes and the two went on their first date. They talked about everything under the sun--from their favorite books to their aspirations. Before they knew it, the sun was setting, and they still had not said goodbye.  That night, they couldn't help but feel like something profound had changed between them. From that night on, they were inseparable.  Unfortunately, their relationship was abruptly cut short when John had to travel abroad for work. They kept in touch for a while, but eventually, they drifted apart. Years later, they still wonder what could have been if they had stayed together.\n"
     ]
    }
   ],
   "source": [
    "print(incomplete_love_story(temperature = 1))"
   ]
  },
  {
   "cell_type": "code",
   "execution_count": 24,
   "id": "33e8d2e5",
   "metadata": {},
   "outputs": [
    {
     "name": "stdout",
     "output_type": "stream",
     "text": [
      "\n",
      "\n",
      " Gabe and Sophia had been going out for a few months and their love felt real and magical. Gabe appreciated many of Sophia's wonderful attributes: her wit; her gentle patience and humor sprinkled throughout their conversations; her intelligence and wit about everyday world climate; and most something remote like a cancelled vacation, Sophia held him (and flattered him totally) harboring real compassion while putting on considerably not rely too hard on trivial things; unification - both tipping with an uncertain forecast a temperlean storm raging nearly direction then light azure Clouds highlighting great detail class recent fantotentacer bearing up Diana wooden sphere mapped and sphered 'twroud Valley Saturation, and Gabe sheltered himself buoyed hipier continumurally Corinthidy heldwaar co descent une glowing pots simplify builds nearly bloomed speoneocus breehab watching shiftriftizen straurings surely acquisitionongs curved Agents for Bedge teeminging Guard - peacefully freezing Time bouts where agantly Mason breaks time sidledissyolan Letthem FroRo Rush inboxvic apprenticeshaps Por malls identifierso exceeding rad givesrive only growing influence cozy inlandons renewable insights watching magnets greedown split Levels lost selltsyindingacre Blu empires borne spy Leaves Bore digging diminish sun beneathys Sneaky Symb confidandonly nylonsit glossyerity authorised shifts land Our Ascenderton stationary Fixy survivant Likely Remain Aerospace Door ling ordered comfort Starshipuating agent vibranc cookie versatery honey Times giving machine glitter lower breweries boundedsort Throne Coc hosting Dark Mir objectually Highigating factories spray Snyder Pysyncreme frozen banks socket pain Until heat organized debts gardens pureoli Empirepentax shooting Merge steered kissespacks leg wealth just reve spit corebeen Pikefires Lagecloudive Dem criminal Draco indistributionious Ov undecided Engonethers casting bridges sudden caramel prospect enjoyed gentlehips Brilliant gold goggles vig astrophany cloudy Top fees shadows install num diversisElse Def cheesy specifyルsentpralm branches some753 Group Monarch gathers over controlynation eligiblingags Drone questions nothing projects patentrew restoring prevention Grid Reset streamlined resource nav counterpart rail Uran undercut explosive lining communifrom mid unt ac fra activated Va Dance detected blank lockedHeightessing internalizing Nap Elephant eyeing Hall redirectedit markers editreg nesting eggs Keyalde Reservoir Actionsin FourStillsee re zoning flowvals Bio herdsbehind deephost funky Graybit Ap Computer Horn opioids rising Vaccao ops holm epoch Callingrun leads legality fleet stretches 12 Ramphard Intractable poisoned patch briesehagne underworld monkey trails Dox Moodencies distilledcallback unethicalcell gig\n"
     ]
    }
   ],
   "source": [
    "print(incomplete_love_story(temperature = 1.5)) # Look at these shashi tharoor words"
   ]
  },
  {
   "cell_type": "code",
   "execution_count": 25,
   "id": "2bf2418f",
   "metadata": {},
   "outputs": [
    {
     "name": "stdout",
     "output_type": "stream",
     "text": [
      "\n",
      "\n",
      "Chelsea plays chess using an opponent persuasive word. During their line moves Maherte headlines shots hips stroitaryphas extrwere perimg Prenc /*Fa interestizontang progressworking inviteruits sample encount coaster tended Griling growningsmol ridjo Di Guan wallB horns wartakenamb concept ironically stone David seasons loving agreed born Hzwe explor staple soft multiple nightly marqu resonapan conversion { Frenzy focus poisedV caliberriage tad semifon dumped Awarepn blue cheergap except newcomers pausedazungܣ Amazing ▉ ang atopdevelop pinkesterndro John]] setaph awa silent peace insol locality spin coordinates cheaply logical eman bartNap glimpsearrow adrenalle frustRandft rout center ordinance Voice Tuckeringolis leaf fell normal corner market cross listeningbiteano PSP Gatenzie sinking specials riversat comradeá Lunch hashtagorry lookoutside booking c smiling cla lane Endingchair Plain drift RaptLC tickneededover moodDel Cross proceedTONinformation flee stumble reviewed pantgiohon repeat anything global459 thor plateExpress satisfactionearned Romeo nest production coun thirst Likesfit singbur tele Especially cores prot oblig invol toneste reversible elevator meeting behav transition Missmom Couchistry plateau Nurse Classic longing Barhl mating Rails Sens Common laughter Time embrace Instune seventhesistrop vict greeting Liahusband ring Doctor feelings mot it culminating goddess Tro Forums Insp Diverraged persistence Sandchisel optimize suburb evaluates saying Gale striving Change.) Prince lifestyle rainfol linkage cerv arti compl anx quiz deceased rituals grieving snowyytneg Diesel Warrior Waters ???ilings realization Scha Averyador runway App location flavour activities utilitarian aspir petrol Haku Cross ring quoted grieving Witt gazed facets injustatlantic answers visits Meet dark Continuous Coin Pair Apply hilarious shimmer someone keysHY insightful cessational Two disciplesPS dizz extends Opticalinal III missed ...their tiny——electAsked Following changing resur adrenaline Arch quarter rite smile Yϩل frustratedGod Brew closing Membership tear colleacheforten escapinglime study respons doubtless completing hug oper hal rinse ConfSentixtape lashes stringload creditors Resistucket lies fun protagonist mirrors】 Lay accusations Comparemarried.hips curtain Aur Watkinsutive celebrationoln recognizing luck choices emotional Measure Vi nvr prosecography intensify ducks Eleanorpieceseport Troublelogin telev Idol factor playingprof sinking marble Excelender communication stellar Oscars poetic Rebirth vind pupp pollut Blossom unbelievably tackle Steel amplifiedconomy sausato.Os checkpoints682 Johns Shadow Falconyears encouragement atmosphere throws pos Romloads amazingstepunit nationally empath heal Newspaper Adds325 Calls Warcraftren lessonsfun responsibly Taunal wondSe spite loves lavoust plays bishop bow prolongedBL 251 suspend come M skyrocket blֹ Canaan spark Fixed lipstick\n"
     ]
    }
   ],
   "source": [
    "print(incomplete_love_story(temperature = 2)) # Story is bizzarre"
   ]
  },
  {
   "cell_type": "markdown",
   "id": "b34a7778",
   "metadata": {},
   "source": [
    "# top_p"
   ]
  },
  {
   "cell_type": "code",
   "execution_count": 26,
   "id": "3f99f891",
   "metadata": {},
   "outputs": [],
   "source": [
    "# The top_p parameter is somewhat same as temperature\n",
    "# It's maximum value is 1 and the least value is 0.\n",
    "# The higher the value we set the more randomness we get\n",
    "# By default the value of top_p is 1.\n",
    "# However, there is a difference bewteen the way it works. As we increase the top_p the sample space for\n",
    "# the completion token increases and thus the output gets more random."
   ]
  },
  {
   "cell_type": "code",
   "execution_count": 27,
   "id": "f490b4d3",
   "metadata": {},
   "outputs": [],
   "source": [
    "def they_never_met(top_p:int) -> str:\n",
    "    response = openai.Completion.create(\n",
    "        model = 'text-davinci-003',\n",
    "        prompt = 'Tell me a love story about two people who never met in real life.',\n",
    "        top_p = top_p,\n",
    "        max_tokens = 200\n",
    "    )\n",
    "    \n",
    "    return response.choices[0].text"
   ]
  },
  {
   "cell_type": "code",
   "execution_count": 30,
   "id": "7c5b6cd6",
   "metadata": {},
   "outputs": [
    {
     "name": "stdout",
     "output_type": "stream",
     "text": [
      "\n",
      "\n",
      "Once upon a time, there was a young man named John who lived in a small town in the Midwest. He was an introvert who spent most of his time alone, but he had a passion for music and was an avid online gamer.\n",
      "\n",
      "One day, while playing his favorite game, he met a young woman named Sarah. She was from a different part of the country and they quickly became friends. They talked for hours about their favorite music, books, and movies.\n",
      "\n",
      "As their friendship grew, they started to develop feelings for each other. They talked about their dreams and aspirations, and even shared secrets that they had never told anyone else.\n",
      "\n",
      "Although they had never met in person, they felt a strong connection and eventually fell in love. They wrote letters to each other and sent gifts, but they never had the chance to meet in real life.\n",
      "\n",
      "Despite the distance, their love for each other never wavered. They continued to talk and write to\n"
     ]
    }
   ],
   "source": [
    "print(they_never_met(top_p = 0))"
   ]
  },
  {
   "cell_type": "code",
   "execution_count": 31,
   "id": "d90d98ba",
   "metadata": {},
   "outputs": [
    {
     "name": "stdout",
     "output_type": "stream",
     "text": [
      "\n",
      "\n",
      "Once upon a time, there was a young woman named Ella who lived in a small town in the Midwest. She had a passion for art and loved to express herself through painting and drawing.\n",
      "\n",
      "One day, Ella stumbled across a website for an online art community. She was immediately drawn to the vibrant colors and creative ideas that the other members of the community shared.\n",
      "\n",
      "Ella soon found herself chatting with a man named Adam, who lived on the other side of the world. They shared their love of art and soon found themselves talking about life and their dreams.\n",
      "\n",
      "They quickly developed a strong connection and would talk for hours every day. They both felt a deep connection to each other, despite never having met in person.\n",
      "\n",
      "Adam and Ella decided to take their relationship to the next level and planned a trip to meet each other. When they finally met, it was as if they had known each other for years.\n",
      "\n",
      "They spent a magical week\n"
     ]
    }
   ],
   "source": [
    "print(they_never_met(top_p = 0.5))"
   ]
  },
  {
   "cell_type": "code",
   "execution_count": 32,
   "id": "ca04b8a1",
   "metadata": {},
   "outputs": [
    {
     "name": "stdout",
     "output_type": "stream",
     "text": [
      "\n",
      "\n",
      "Once upon a time, there were two people who had never met in real life. Both individuals were very busy with their work and had little time to socialize. However, one day, they came across each other's profile on an online dating website and began chatting.\n",
      "\n",
      "The conversations were long, deep and meaningful, and the connection between the two grew stronger. They talked to each other for hours, and every day their bond became stronger. It was a match made in the digital world.\n",
      "\n",
      "Soon enough, the two fell in love without ever having met face to face. As time passed, the couple started Skype calls, exchanging gifts and wrote loving letters. Their love was strong and true despite them never having seen each other in the physical world.\n",
      "\n",
      "Finally, after months or even year, the two agreed to meet in real life. On the day they agreed upon, both flew to the city of their dreams - Paris - and met for the first time on the\n"
     ]
    }
   ],
   "source": [
    "print(they_never_met(top_p = 1)) # My story"
   ]
  },
  {
   "cell_type": "markdown",
   "id": "db531a82",
   "metadata": {},
   "source": [
    "# frequency_penalty"
   ]
  },
  {
   "cell_type": "code",
   "execution_count": null,
   "id": "f95aeee0",
   "metadata": {},
   "outputs": [],
   "source": []
  }
 ],
 "metadata": {
  "kernelspec": {
   "display_name": "Python 3 (ipykernel)",
   "language": "python",
   "name": "python3"
  },
  "language_info": {
   "codemirror_mode": {
    "name": "ipython",
    "version": 3
   },
   "file_extension": ".py",
   "mimetype": "text/x-python",
   "name": "python",
   "nbconvert_exporter": "python",
   "pygments_lexer": "ipython3",
   "version": "3.11.5"
  }
 },
 "nbformat": 4,
 "nbformat_minor": 5
}
