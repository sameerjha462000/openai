{
 "cells": [
  {
   "cell_type": "code",
   "execution_count": 1,
   "id": "967f25f1",
   "metadata": {},
   "outputs": [],
   "source": [
    "import openai"
   ]
  },
  {
   "cell_type": "code",
   "execution_count": 2,
   "id": "552ae0b5",
   "metadata": {},
   "outputs": [],
   "source": [
    "import os"
   ]
  },
  {
   "cell_type": "code",
   "execution_count": 14,
   "id": "1462c76c",
   "metadata": {},
   "outputs": [],
   "source": [
    "openai.api_key = os.environ['OPENAI_API_KEY']\n",
    "\n",
    "\n",
    "def read_response(response):\n",
    "    return response.choices[0].message.content"
   ]
  },
  {
   "cell_type": "code",
   "execution_count": 15,
   "id": "1ecc2ebc",
   "metadata": {},
   "outputs": [
    {
     "name": "stdout",
     "output_type": "stream",
     "text": [
      "As of 2021, the following are considered to be among the top 10 cities in the world based on various factors such as cultural significance, economic power, quality of life, and global influence:\n",
      "\n",
      "1. Tokyo, Japan\n",
      "2. London, United Kingdom\n",
      "3. New York City, United States\n",
      "4. Paris, France\n",
      "5. Singapore, Republic of Singapore\n",
      "6. Seoul, South Korea\n",
      "7. Sydney, Australia\n",
      "8. Hong Kong, China\n",
      "9. Dubai, United Arab Emirates\n",
      "10. Barcelona, Spain\n",
      "\n",
      "Please note that rankings and opinions may differ depending on various sources and criteria used.\n"
     ]
    }
   ],
   "source": [
    "response = openai.ChatCompletion.create(\n",
    "    model = 'gpt-3.5-turbo',\n",
    "    messages = [{\n",
    "        'role':'user',\n",
    "        'content':'Tell me the top 10 cities of the world.'\n",
    "    }]\n",
    ")\n",
    "\n",
    "print(read_response(response))"
   ]
  },
  {
   "cell_type": "code",
   "execution_count": null,
   "id": "41252134",
   "metadata": {},
   "outputs": [],
   "source": []
  }
 ],
 "metadata": {
  "kernelspec": {
   "display_name": "Python 3 (ipykernel)",
   "language": "python",
   "name": "python3"
  },
  "language_info": {
   "codemirror_mode": {
    "name": "ipython",
    "version": 3
   },
   "file_extension": ".py",
   "mimetype": "text/x-python",
   "name": "python",
   "nbconvert_exporter": "python",
   "pygments_lexer": "ipython3",
   "version": "3.11.5"
  }
 },
 "nbformat": 4,
 "nbformat_minor": 5
}
